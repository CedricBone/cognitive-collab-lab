{
 "cells": [
  {
   "cell_type": "markdown",
   "metadata": {},
   "source": [
    "# Statistical Analysis"
   ]
  },
  {
   "cell_type": "markdown",
   "metadata": {},
   "source": [
    "## Imports & Initializations "
   ]
  },
  {
   "cell_type": "code",
   "execution_count": 1,
   "metadata": {},
   "outputs": [],
   "source": [
    "import os\n",
    "import scipy.stats as stats\n",
    "import numpy as np\n",
    "import pandas as pd\n",
    "import matplotlib.pyplot as plt\n",
    "import json\n",
    "import statsmodels.api as sm\n",
    "import statsmodels.formula.api as smf"
   ]
  },
  {
   "cell_type": "code",
   "execution_count": 2,
   "metadata": {},
   "outputs": [],
   "source": [
    "# load model results from /formatted_data\n",
    "trial_types = [\"solo\", \"solo_con\", \"pair\", \"pair_con\"]\n",
    "model_results = {}\n",
    "TLX_results = {}\n",
    "eye_tracking_results = {}\n",
    "gsr_results = {}\n",
    "\n",
    "for trial_type in trial_types:\n",
    "    model_results[trial_type] = json.load(open(f\"formatted_data/{trial_type}_model_results.json\"))\n",
    "    TLX_results[trial_type] = pd.read_csv(f\"formatted_data/{trial_type}_TLX_results.csv\").to_dict()\n",
    "    eye_tracking_results[trial_type] = pd.read_csv(f\"formatted_data/{trial_type}_eye_results.csv\").to_dict()\n",
    "    gsr_results[trial_type] = pd.read_csv(f\"formatted_data/{trial_type}_gsr_results.csv\").to_dict()\n",
    "\n",
    "def paired_t_test(data1, data2):\n",
    "    print(\"Normality Check:\")\n",
    "    print(\"Data1:\", stats.shapiro(data1))\n",
    "    print(\"Data2:\", stats.shapiro(data2))\n",
    "\n",
    "    if stats.shapiro(data1)[1] > 0.05 and stats.shapiro(data2)[1] > 0.05:\n",
    "        print(\"Data is normally distributed, use paired parametric test\")\n",
    "        t_stat, p_value = stats.ttest_rel(data1, data2)\n",
    "        print(\"Paired T-Test:\")\n",
    "        print(\"T-statistic:\", t_stat)\n",
    "        print(\"P-value:\", p_value)\n",
    "    else:\n",
    "        print(\"Data is not normally distributed, use non-parametric test\")\n",
    "        w_stat, p_value = stats.wilcoxon(data1, data2)\n",
    "        print(\"Wilcoxon Signed-Rank Test:\")\n",
    "        print(\"W-statistic:\", w_stat)\n",
    "        print(\"P-value:\", p_value)\n",
    "\n",
    "def independent_t_test(data1, data2):\n",
    "    print(\"Normality Check:\")\n",
    "    print(\"Data1:\", stats.shapiro(data1))\n",
    "    print(\"Data2:\", stats.shapiro(data2))\n",
    "\n",
    "    if stats.shapiro(data1)[1] > 0.05 and stats.shapiro(data2)[1] > 0.05:\n",
    "        print(\"Data is normally distributed, use independent parametric test\")\n",
    "        t_stat, p_value = stats.ttest_ind(data1, data2)\n",
    "        print(\"Independent T-Test:\")\n",
    "        print(\"T-statistic:\", t_stat)\n",
    "        print(\"P-value:\", p_value)\n",
    "    else:\n",
    "        print(\"Data is not normally distributed, use non-parametric test\")\n",
    "        u_stat, p_value = stats.mannwhitneyu(data1, data2)\n",
    "        print(\"Mann-Whitney U Test:\")\n",
    "        print(\"U-statistic:\", u_stat)\n",
    "        print(\"P-value:\", p_value)\n",
    "\n",
    "def mixed_effects_model(data,dependent_var,condition_group):\n",
    "    model = smf.mixedlm(f'{dependent_var} ~ {condition_group}', data, groups=data['participant_id'])\n",
    "    result = model.fit()\n",
    "    print(result.summary())\n",
    "\n",
    "def safe_float_convert(x):\n",
    "    try:\n",
    "        return float(x)\n",
    "    except ValueError:\n",
    "        return np.nan  # Convert non-numeric values to NaN\n"
   ]
  },
  {
   "cell_type": "markdown",
   "metadata": {},
   "source": [
    "## Research Question 1: How does pair-based collaboration impact cognitive load and model performance in an annotation task in an IML system?\n",
    "\n",
    "- Dependent Variables: Cognitive load (Measured by: GSR, eye-tracker, NASA-TLX scores), LSTM Model performance (Measured by: Accuracy, Precision, Recall)\n",
    "- Independent Variable: Collaboration mode (solo vs. pair)\n",
    "\n"
   ]
  },
  {
   "cell_type": "markdown",
   "metadata": {},
   "source": [
    "### Pair-based collaboration impact on cognitive load"
   ]
  },
  {
   "cell_type": "markdown",
   "metadata": {},
   "source": [
    "#### t-test on TLX Scores"
   ]
  },
  {
   "cell_type": "code",
   "execution_count": 3,
   "metadata": {},
   "outputs": [
    {
     "name": "stdout",
     "output_type": "stream",
     "text": [
      "Normality Check:\n",
      "Data1: ShapiroResult(statistic=0.9541932940483093, pvalue=0.5588769912719727)\n",
      "Data2: ShapiroResult(statistic=0.9060248732566833, pvalue=0.3269185423851013)\n",
      "Data is normally distributed, use independent parametric test\n",
      "Independent T-Test:\n",
      "T-statistic: 1.166151337203741\n",
      "P-value: 0.2560401450937756\n",
      "            Mixed Linear Model Regression Results\n",
      "=============================================================\n",
      "Model:               MixedLM   Dependent Variable:   TLXScore\n",
      "No. Observations:    24        Method:               REML    \n",
      "No. Groups:          8         Scale:                68.1437 \n",
      "Min. group size:     2         Log-Likelihood:       -86.7501\n",
      "Max. group size:     4         Converged:            Yes     \n",
      "Mean group size:     3.0                                     \n",
      "-------------------------------------------------------------\n",
      "                   Coef.  Std.Err.   z    P>|z| [0.025 0.975]\n",
      "-------------------------------------------------------------\n",
      "Intercept          36.022    5.609  6.422 0.000 25.028 47.015\n",
      "Condition[T.solo]  -1.386    4.215 -0.329 0.742 -9.647  6.874\n",
      "Group Var         143.647   13.739                           \n",
      "=============================================================\n",
      "\n"
     ]
    }
   ],
   "source": [
    "validation_category = \"Rating Scale Score\"\n",
    "solo_TLX_scores = []\n",
    "pair_TLX_scores = []\n",
    "\n",
    "for category in TLX_results[\"solo\"].keys():\n",
    "    if category.startswith(validation_category):\n",
    "        solo_TLX_scores.append(TLX_results[\"solo\"][category][0])\n",
    "for category in TLX_results[\"solo_con\"]:\n",
    "    if category.startswith(validation_category):\n",
    "        solo_TLX_scores.append(TLX_results[\"solo_con\"][category][0])\n",
    "\n",
    "for category in TLX_results[\"pair\"]:\n",
    "    if category.startswith(validation_category):\n",
    "        pair_TLX_scores.append(TLX_results[\"pair\"][category][0])\n",
    "for category in TLX_results[\"pair_con\"]:\n",
    "    if category.startswith(validation_category):\n",
    "        pair_TLX_scores.append(TLX_results[\"pair_con\"][category][0])\n",
    "\n",
    "independent_t_test(solo_TLX_scores, pair_TLX_scores)\n",
    "\n",
    "data = []\n",
    "for trial_type in ['solo', 'solo_con', 'pair', 'pair_con']:\n",
    "    for category in TLX_results[trial_type].keys():\n",
    "        if category.startswith(\"Rating Scale Score\"):\n",
    "            participant_id = category.split()[-1]\n",
    "            trial_type = trial_type\n",
    "            score = TLX_results[trial_type][category][0]\n",
    "            data.append((participant_id, trial_type, score))\n",
    "tlx_df = pd.DataFrame(data, columns=['participant_id', 'Condition', 'TLXScore'])\n",
    "# combine solo and solo_con, pair and pair_con\n",
    "tlx_df['Condition'] = tlx_df['Condition'].replace({'solo_con': 'solo', 'pair_con': 'pair'})\n",
    "#print(tlx_df.head())\n",
    "\n",
    "mixed_effects_model(tlx_df, 'TLXScore', 'Condition')"
   ]
  },
  {
   "cell_type": "markdown",
   "metadata": {},
   "source": [
    "#### t-test on Average Pupil Diameter"
   ]
  },
  {
   "cell_type": "code",
   "execution_count": 4,
   "metadata": {},
   "outputs": [
    {
     "name": "stdout",
     "output_type": "stream",
     "text": [
      "Normality Check:\n",
      "Data1: ShapiroResult(statistic=0.6162278056144714, pvalue=6.019883613817001e-08)\n",
      "Data2: ShapiroResult(statistic=0.8831117153167725, pvalue=0.043398331850767136)\n",
      "Data is not normally distributed, use non-parametric test\n",
      "Mann-Whitney U Test:\n",
      "U-statistic: 323.0\n",
      "P-value: 0.1458397251879579\n",
      "            Mixed Linear Model Regression Results\n",
      "=============================================================\n",
      "Model:            MixedLM Dependent Variable: AverageDiameter\n",
      "No. Observations: 48      Method:             REML           \n",
      "No. Groups:       16      Scale:              0.0024         \n",
      "Min. group size:  2       Log-Likelihood:     69.5013        \n",
      "Max. group size:  4       Converged:          Yes            \n",
      "Mean group size:  3.0                                        \n",
      "-------------------------------------------------------------\n",
      "                   Coef.  Std.Err.   z    P>|z| [0.025 0.975]\n",
      "-------------------------------------------------------------\n",
      "Intercept          -0.001    0.015 -0.071 0.943 -0.031  0.029\n",
      "Condition[T.solo]   0.014    0.017  0.787 0.431 -0.020  0.048\n",
      "Group Var           0.000    0.012                           \n",
      "=============================================================\n",
      "\n"
     ]
    },
    {
     "name": "stderr",
     "output_type": "stream",
     "text": [
      "c:\\ProgramData\\Anaconda3\\lib\\site-packages\\statsmodels\\regression\\mixed_linear_model.py:2237: ConvergenceWarning: The MLE may be on the boundary of the parameter space.\n",
      "  warnings.warn(msg, ConvergenceWarning)\n"
     ]
    }
   ],
   "source": [
    "solo_average_diameter_results = []\n",
    "pair_average_diameter_results = []\n",
    "\n",
    "for category in eye_tracking_results[\"solo\"].keys():\n",
    "    if category.startswith(\"diameter\"):\n",
    "        diameters = list(eye_tracking_results[\"solo\"][category].values())\n",
    "        diameters = [diameter for diameter in diameters if not np.isnan(diameter)]\n",
    "        average_diameter = np.mean(diameters)\n",
    "        solo_average_diameter_results.append(average_diameter)\n",
    "for category in eye_tracking_results[\"solo_con\"]:\n",
    "    if category.startswith(\"diameter\"):\n",
    "        diameters = list(eye_tracking_results[\"solo_con\"][category].values())\n",
    "        diameters = [diameter for diameter in diameters if not np.isnan(diameter)]\n",
    "        average_diameter = np.mean(diameters)\n",
    "        solo_average_diameter_results.append(average_diameter)\n",
    "\n",
    "for category in eye_tracking_results[\"pair\"]:\n",
    "    if category.startswith(\"diameter\"):\n",
    "        diameters = list(eye_tracking_results[\"pair\"][category].values())\n",
    "        diameters = [diameter for diameter in diameters if not np.isnan(diameter)]\n",
    "        average_diameter = np.mean(diameters)\n",
    "        pair_average_diameter_results.append(average_diameter)\n",
    "for category in eye_tracking_results[\"pair_con\"]:\n",
    "    if category.startswith(\"diameter\"):\n",
    "        diameters = list(eye_tracking_results[\"pair_con\"][category].values())\n",
    "        diameters = [diameter for diameter in diameters if not np.isnan(diameter)]\n",
    "        average_diameter = np.mean(diameters)\n",
    "        pair_average_diameter_results.append(average_diameter)\n",
    "\n",
    "#print(solo_average_diameter_results)\n",
    "#print(pair_average_diameter_results)\n",
    "\n",
    "independent_t_test(solo_average_diameter_results, pair_average_diameter_results)\n",
    "\n",
    "data = []\n",
    "for trial_type in ['solo', 'solo_con', 'pair', 'pair_con']:\n",
    "    for category in eye_tracking_results[trial_type].keys():\n",
    "        if category.startswith(\"diameter\"):\n",
    "            participant_id = category.split()[-1]\n",
    "            trial_type = trial_type\n",
    "            diameter = np.mean([value for value in eye_tracking_results[trial_type][category].values() if not np.isnan(value)])\n",
    "            data.append((participant_id, trial_type, diameter))\n",
    "eye_df = pd.DataFrame(data, columns=['participant_id', 'Condition', 'AverageDiameter'])\n",
    "# combine solo and solo_con, pair and pair_con\n",
    "eye_df['Condition'] = eye_df['Condition'].replace({'solo_con': 'solo', 'pair_con': 'pair'})\n",
    "#print(eye_df.head(33))\n",
    "\n",
    "mixed_effects_model(eye_df, 'AverageDiameter', 'Condition')"
   ]
  },
  {
   "cell_type": "markdown",
   "metadata": {},
   "source": [
    "#### t-test on Average Skin Conductance"
   ]
  },
  {
   "cell_type": "code",
   "execution_count": 5,
   "metadata": {},
   "outputs": [
    {
     "name": "stdout",
     "output_type": "stream",
     "text": [
      "Normality Check:\n",
      "Data1: ShapiroResult(statistic=0.669791579246521, pvalue=7.992655446287245e-05)\n",
      "Data2: ShapiroResult(statistic=0.9123731851577759, pvalue=0.3710785210132599)\n",
      "Data is not normally distributed, use non-parametric test\n",
      "Mann-Whitney U Test:\n",
      "U-statistic: 77.0\n",
      "P-value: 0.44359774263582685\n",
      "           Mixed Linear Model Regression Results\n",
      "============================================================\n",
      "Model:              MixedLM  Dependent Variable:  AverageGSR\n",
      "No. Observations:   24       Method:              REML      \n",
      "No. Groups:         8        Scale:               0.0000    \n",
      "Min. group size:    2        Log-Likelihood:      726.4908  \n",
      "Max. group size:    4        Converged:           Yes       \n",
      "Mean group size:    3.0                                     \n",
      "------------------------------------------------------------\n",
      "                  Coef.  Std.Err.   z    P>|z| [0.025 0.975]\n",
      "------------------------------------------------------------\n",
      "Intercept         -0.000    0.000 -0.291 0.771 -0.000  0.000\n",
      "Condition[T.solo]  0.000    0.000  1.196 0.232 -0.000  0.000\n",
      "Group Var          0.000    0.000                           \n",
      "============================================================\n",
      "\n"
     ]
    },
    {
     "name": "stderr",
     "output_type": "stream",
     "text": [
      "c:\\ProgramData\\Anaconda3\\lib\\site-packages\\statsmodels\\regression\\mixed_linear_model.py:2237: ConvergenceWarning: The MLE may be on the boundary of the parameter space.\n",
      "  warnings.warn(msg, ConvergenceWarning)\n"
     ]
    }
   ],
   "source": [
    "solo_average_gsr = []\n",
    "pair_average_gsr = []\n",
    "\n",
    "for category in gsr_results[\"solo\"].keys():\n",
    "    if category.startswith(\"GSR Conductance CAL (u Siemens)\"):\n",
    "        gsr_values = list(gsr_results[\"solo\"][category].values())\n",
    "        gsr_values = [safe_float_convert(gsr) for gsr in gsr_values]\n",
    "        gsr_values = [gsr for gsr in gsr_values if not np.isnan(gsr)]\n",
    "        average_gsr = np.mean(gsr_values)\n",
    "        solo_average_gsr.append(average_gsr)\n",
    "for category in gsr_results[\"solo_con\"].keys():\n",
    "    if category.startswith(\"GSR Conductance CAL (u Siemens)\"):\n",
    "        gsr_values = list(gsr_results[\"solo_con\"][category].values())\n",
    "        gsr_values = [safe_float_convert(gsr) for gsr in gsr_values]\n",
    "        gsr_values = [gsr for gsr in gsr_values if not np.isnan(gsr)]\n",
    "        average_gsr = np.mean(gsr_values)\n",
    "        solo_average_gsr.append(average_gsr)\n",
    "\n",
    "for category in gsr_results[\"pair\"].keys():\n",
    "    if category.startswith(\"GSR Conductance CAL (u Siemens)\"):\n",
    "        gsr_values = list(gsr_results[\"pair\"][category].values())\n",
    "        gsr_values = [safe_float_convert(gsr) for gsr in gsr_values]\n",
    "        gsr_values = [gsr for gsr in gsr_values if not np.isnan(gsr)]\n",
    "        average_gsr = np.mean(gsr_values)\n",
    "        pair_average_gsr.append(average_gsr)\n",
    "for category in gsr_results[\"pair_con\"].keys():\n",
    "    if category.startswith(\"GSR Conductance CAL (u Siemens)\"):\n",
    "        gsr_values = list(gsr_results[\"pair_con\"][category].values())\n",
    "        gsr_values = [safe_float_convert(gsr) for gsr in gsr_values]\n",
    "        gsr_values = [gsr for gsr in gsr_values if not np.isnan(gsr)]\n",
    "        average_gsr = np.mean(gsr_values)\n",
    "        pair_average_gsr.append(average_gsr)\n",
    "\n",
    "#print(solo_average_gsr)\n",
    "#print(pair_average_gsr)\n",
    "\n",
    "independent_t_test(solo_average_gsr, pair_average_gsr)\n",
    "\n",
    "data = []\n",
    "for trial_type in ['solo', 'solo_con', 'pair', 'pair_con']:\n",
    "    for category in gsr_results[trial_type].keys():\n",
    "        if category.startswith(\"GSR Conductance CAL (u Siemens)\"):\n",
    "            participant_id = category.split()[-1]\n",
    "            trial_type = trial_type\n",
    "            gsr_values = list(gsr_results[trial_type][category].values())\n",
    "            gsr_values = [safe_float_convert(gsr) for gsr in gsr_values]\n",
    "            gsr_values = [gsr for gsr in gsr_values if not np.isnan(gsr)]\n",
    "            average_gsr = np.mean(gsr_values)\n",
    "            data.append((participant_id, trial_type, average_gsr))\n",
    "gsr_df = pd.DataFrame(data, columns=['participant_id', 'Condition', 'AverageGSR'])\n",
    "# combine solo and solo_con, pair and pair_con\n",
    "gsr_df['Condition'] = gsr_df['Condition'].replace({'solo_con': 'solo', 'pair_con': 'pair'})\n",
    "#print(gsr_df.head(20))\n",
    "\n",
    "mixed_effects_model(gsr_df, 'AverageGSR', 'Condition')"
   ]
  },
  {
   "cell_type": "markdown",
   "metadata": {},
   "source": [
    "### Pair-based collaboration impact on model performance"
   ]
  },
  {
   "cell_type": "markdown",
   "metadata": {},
   "source": [
    "#### t-test on accuracy with respect to dataset"
   ]
  },
  {
   "cell_type": "code",
   "execution_count": 6,
   "metadata": {},
   "outputs": [
    {
     "name": "stdout",
     "output_type": "stream",
     "text": [
      "Normality Check:\n",
      "Data1: ShapiroResult(statistic=0.6439616680145264, pvalue=4.3395168177085e-05)\n",
      "Data2: ShapiroResult(statistic=0.728634238243103, pvalue=0.02385682798922062)\n",
      "Data is not normally distributed, use non-parametric test\n",
      "Mann-Whitney U Test:\n",
      "U-statistic: 32.0\n",
      "P-value: 1.0\n"
     ]
    }
   ],
   "source": [
    "validation_type = \"Updated model accuracy with respect to dataset\"\n",
    "solo_validation_values = []\n",
    "pair_validation_values = []\n",
    "\n",
    "for category in model_results[\"solo\"].keys():\n",
    "    if category.startswith(validation_type):\n",
    "        solo_validation_values.append(model_results[\"solo\"][category])\n",
    "for category in model_results[\"solo_con\"]:\n",
    "    if category.startswith(validation_type):\n",
    "        solo_validation_values.append(model_results[\"solo_con\"][category])\n",
    "\n",
    "for category in model_results[\"pair\"]:\n",
    "    if category.startswith(validation_type):\n",
    "        pair_validation_values.append(model_results[\"pair\"][category])\n",
    "for category in model_results[\"pair_con\"]:\n",
    "    if category.startswith(validation_type):\n",
    "        pair_validation_values.append(model_results[\"pair_con\"][category])\n",
    "\n",
    "#print(solo_validation_values)\n",
    "#print(pair_validation_values)\n",
    "\n",
    "independent_t_test(solo_validation_values, pair_validation_values)"
   ]
  },
  {
   "cell_type": "markdown",
   "metadata": {},
   "source": [
    "## Research Question 2: What is the effect of varying the controllability of the system on cognitive load and model performance in an IML system?\n",
    "\n",
    "- Dependent Variables: Cognitive load (Measured by: GSR, eye-tracker, NASA-TLX scores), LSTM Model performance (Measured by: Accuracy, Precision, Recall)\n",
    "- Independent Variable: Controllability (low vs. high)"
   ]
  },
  {
   "cell_type": "markdown",
   "metadata": {},
   "source": [
    "### Controllability of the system impact on cognitive load"
   ]
  },
  {
   "cell_type": "markdown",
   "metadata": {},
   "source": [
    "#### t-test on TLX Scores"
   ]
  },
  {
   "cell_type": "code",
   "execution_count": 7,
   "metadata": {},
   "outputs": [
    {
     "name": "stdout",
     "output_type": "stream",
     "text": [
      "Normality Check:\n",
      "Data1: ShapiroResult(statistic=0.9362173676490784, pvalue=0.4506763219833374)\n",
      "Data2: ShapiroResult(statistic=0.93773353099823, pvalue=0.4692804515361786)\n",
      "Data is normally distributed, use paired parametric test\n",
      "Paired T-Test:\n",
      "T-statistic: 4.097496026137246\n",
      "P-value: 0.0017668888816182462\n"
     ]
    }
   ],
   "source": [
    "validation_category = \"Rating Scale Score\"\n",
    "con_tlx_scores = []\n",
    "no_con_tlx_scores = []\n",
    "\n",
    "for category in TLX_results[\"solo\"].keys():\n",
    "    if category.startswith(validation_category):\n",
    "        no_con_tlx_scores.append(TLX_results[\"solo\"][category][0])\n",
    "for category in TLX_results[\"pair\"]:\n",
    "    if category.startswith(validation_category):\n",
    "        no_con_tlx_scores.append(TLX_results[\"pair\"][category][0])\n",
    "\n",
    "for category in TLX_results[\"solo_con\"]:\n",
    "    if category.startswith(validation_category):\n",
    "        con_tlx_scores.append(TLX_results[\"solo_con\"][category][0])\n",
    "for category in TLX_results[\"pair_con\"]:\n",
    "    if category.startswith(validation_category):\n",
    "        con_tlx_scores.append(TLX_results[\"pair_con\"][category][0])\n",
    "\n",
    "#print(con_tlx_scores)\n",
    "#print(no_con_tlx_scores)\n",
    "\n",
    "paired_t_test(con_tlx_scores, no_con_tlx_scores)"
   ]
  },
  {
   "cell_type": "markdown",
   "metadata": {},
   "source": [
    "#### t-test on average diameter "
   ]
  },
  {
   "cell_type": "code",
   "execution_count": 8,
   "metadata": {},
   "outputs": [
    {
     "name": "stdout",
     "output_type": "stream",
     "text": [
      "Normality Check:\n",
      "Data1: ShapiroResult(statistic=0.6962406635284424, pvalue=8.986825378087815e-06)\n",
      "Data2: ShapiroResult(statistic=0.5993242263793945, pvalue=6.070997073948092e-07)\n",
      "Data is not normally distributed, use non-parametric test\n",
      "Wilcoxon Signed-Rank Test:\n",
      "W-statistic: 82.0\n",
      "P-value: 0.05264079570770264\n"
     ]
    }
   ],
   "source": [
    "con_validation_values = []\n",
    "no_con_validation_values = []\n",
    "\n",
    "for category in eye_tracking_results[\"solo\"].keys():\n",
    "    if category.startswith(\"diameter\"):\n",
    "        diameters = list(eye_tracking_results[\"solo\"][category].values())\n",
    "        diameters = [diameter for diameter in diameters if not np.isnan(diameter)]\n",
    "        average_diameter = np.mean(diameters)\n",
    "        no_con_validation_values.append(average_diameter)\n",
    "for category in eye_tracking_results[\"pair\"]:\n",
    "    if category.startswith(\"diameter\"):\n",
    "        diameters = list(eye_tracking_results[\"pair\"][category].values())\n",
    "        diameters = [diameter for diameter in diameters if not np.isnan(diameter)]\n",
    "        average_diameter = np.mean(diameters)\n",
    "        no_con_validation_values.append(average_diameter)\n",
    "\n",
    "for category in eye_tracking_results[\"solo_con\"]:\n",
    "    if category.startswith(\"diameter\"):\n",
    "        diameters = list(eye_tracking_results[\"solo_con\"][category].values())\n",
    "        diameters = [diameter for diameter in diameters if not np.isnan(diameter)]\n",
    "        average_diameter = np.mean(diameters)\n",
    "        con_validation_values.append(average_diameter)\n",
    "for category in eye_tracking_results[\"pair_con\"]:\n",
    "    if category.startswith(\"diameter\"):\n",
    "        diameters = list(eye_tracking_results[\"pair_con\"][category].values())\n",
    "        diameters = [diameter for diameter in diameters if not np.isnan(diameter)]\n",
    "        average_diameter = np.mean(diameters)\n",
    "        con_validation_values.append(average_diameter)\n",
    "\n",
    "#print(con_validation_values)\n",
    "#print(no_con_validation_values)\n",
    "\n",
    "paired_t_test(con_validation_values, no_con_validation_values)"
   ]
  },
  {
   "cell_type": "markdown",
   "metadata": {},
   "source": [
    "#### t-test on skin conductance"
   ]
  },
  {
   "cell_type": "code",
   "execution_count": 9,
   "metadata": {},
   "outputs": [
    {
     "name": "stdout",
     "output_type": "stream",
     "text": [
      "Normality Check:\n",
      "Data1: ShapiroResult(statistic=0.54163658618927, pvalue=3.6446555895963684e-05)\n",
      "Data2: ShapiroResult(statistic=0.9138855338096619, pvalue=0.23920249938964844)\n",
      "Data is not normally distributed, use non-parametric test\n",
      "Wilcoxon Signed-Rank Test:\n",
      "W-statistic: 27.0\n",
      "P-value: 0.38037109375\n"
     ]
    }
   ],
   "source": [
    "con_gsr = []\n",
    "no_con_gsr = []\n",
    "\n",
    "for category in gsr_results[\"solo\"].keys():\n",
    "    if category.startswith(\"GSR Conductance CAL (u Siemens)\"):\n",
    "        gsr_values = list(gsr_results[\"solo\"][category].values())\n",
    "        gsr_values = [safe_float_convert(gsr) for gsr in gsr_values]\n",
    "        gsr_values = [gsr for gsr in gsr_values if not np.isnan(gsr)]\n",
    "        average_gsr = np.mean(gsr_values)\n",
    "        no_con_gsr.append(average_gsr)\n",
    "for category in gsr_results[\"pair\"]:\n",
    "    if category.startswith(\"GSR Conductance CAL (u Siemens)\"):\n",
    "        gsr_values = list(gsr_results[\"pair\"][category].values())\n",
    "        gsr_values = [safe_float_convert(gsr) for gsr in gsr_values]\n",
    "        gsr_values = [gsr for gsr in gsr_values if not np.isnan(gsr)]\n",
    "        average_gsr = np.mean(gsr_values)\n",
    "        no_con_gsr.append(average_gsr)\n",
    "\n",
    "for category in gsr_results[\"solo_con\"]:\n",
    "    if category.startswith(\"GSR Conductance CAL (u Siemens)\"):\n",
    "        gsr_values = list(gsr_results[\"solo_con\"][category].values())\n",
    "        gsr_values = [safe_float_convert(gsr) for gsr in gsr_values]\n",
    "        gsr_values = [gsr for gsr in gsr_values if not np.isnan(gsr)]\n",
    "        average_gsr = np.mean(gsr_values)\n",
    "        con_gsr.append(average_gsr)\n",
    "for category in gsr_results[\"pair_con\"]:\n",
    "    if category.startswith(\"GSR Conductance CAL (u Siemens)\"):\n",
    "        gsr_values = list(gsr_results[\"pair_con\"][category].values())\n",
    "        gsr_values = [safe_float_convert(gsr) for gsr in gsr_values]\n",
    "        gsr_values = [gsr for gsr in gsr_values if not np.isnan(gsr)]\n",
    "        average_gsr = np.mean(gsr_values)\n",
    "        con_gsr.append(average_gsr)\n",
    "\n",
    "#print(con_gsr)\n",
    "#print(no_con_gsr)\n",
    "\n",
    "paired_t_test(con_gsr, no_con_gsr)"
   ]
  },
  {
   "cell_type": "code",
   "execution_count": 10,
   "metadata": {},
   "outputs": [
    {
     "name": "stdout",
     "output_type": "stream",
     "text": [
      "Normality Check:\n",
      "Data1: ShapiroResult(statistic=0.8783904314041138, pvalue=0.08358535170555115)\n",
      "Data2: ShapiroResult(statistic=0.934589684009552, pvalue=0.431304931640625)\n",
      "Data is normally distributed, use paired parametric test\n",
      "Paired T-Test:\n",
      "T-statistic: 0.6559251278498037\n",
      "P-value: 0.5253544108853087\n"
     ]
    }
   ],
   "source": [
    "con_gsr = []\n",
    "no_con_gsr = []\n",
    "\n",
    "for category in gsr_results[\"solo\"].keys():\n",
    "    if category.startswith(\"GSR Conductance CAL (u Siemens)\"):\n",
    "        gsr_values = list(gsr_results[\"solo\"][category].values())\n",
    "        gsr_values = [safe_float_convert(gsr) for gsr in gsr_values]\n",
    "        gsr_values = [gsr for gsr in gsr_values if not np.isnan(gsr)]\n",
    "        max_gsr = max(gsr_values)\n",
    "        no_con_gsr.append(max_gsr)\n",
    "for category in gsr_results[\"pair\"]:\n",
    "    if category.startswith(\"GSR Conductance CAL (u Siemens)\"):\n",
    "        gsr_values = list(gsr_results[\"pair\"][category].values())\n",
    "        gsr_values = [safe_float_convert(gsr) for gsr in gsr_values]\n",
    "        gsr_values = [gsr for gsr in gsr_values if not np.isnan(gsr)]\n",
    "        max_gsr = max(gsr_values)\n",
    "        no_con_gsr.append(max_gsr)\n",
    "\n",
    "for category in gsr_results[\"solo_con\"]:\n",
    "    if category.startswith(\"GSR Conductance CAL (u Siemens)\"):\n",
    "        gsr_values = list(gsr_results[\"solo_con\"][category].values())\n",
    "        gsr_values = [safe_float_convert(gsr) for gsr in gsr_values]\n",
    "        gsr_values = [gsr for gsr in gsr_values if not np.isnan(gsr)]\n",
    "        max_gsr = max(gsr_values)\n",
    "        con_gsr.append(max_gsr)\n",
    "for category in gsr_results[\"pair_con\"]:\n",
    "    if category.startswith(\"GSR Conductance CAL (u Siemens)\"):\n",
    "        gsr_values = list(gsr_results[\"pair_con\"][category].values())\n",
    "        gsr_values = [safe_float_convert(gsr) for gsr in gsr_values]\n",
    "        gsr_values = [gsr for gsr in gsr_values if not np.isnan(gsr)]\n",
    "        max_gsr = max(gsr_values)\n",
    "        con_gsr.append(max_gsr)\n",
    "\n",
    "#print(con_gsr)\n",
    "#print(no_con_gsr)\n",
    "\n",
    "paired_t_test(con_gsr, no_con_gsr)"
   ]
  },
  {
   "cell_type": "markdown",
   "metadata": {},
   "source": [
    "### Controllability of the system impact on model performance"
   ]
  },
  {
   "cell_type": "code",
   "execution_count": 11,
   "metadata": {},
   "outputs": [
    {
     "name": "stdout",
     "output_type": "stream",
     "text": [
      "Updated model accuracy with respect to dataset for Participant 001\n",
      "Updated model accuracy with respect to dataset for Participant 002\n",
      "Updated model accuracy with respect to dataset for Participant 004\n",
      "Updated model accuracy with respect to dataset for Participant 003\n",
      "Updated model accuracy with respect to dataset for Participant 005\n",
      "Updated model accuracy with respect to dataset for Participant 006\n",
      "Updated model accuracy with respect to dataset for Participant 007\n",
      "Updated model accuracy with respect to dataset for Participant 008\n",
      "Updated model accuracy with respect to dataset for Participant 001,006\n",
      "Updated model accuracy with respect to dataset for Participant 002,003\n",
      "Updated model accuracy with respect to dataset for Participant 001\n",
      "Updated model accuracy with respect to dataset for Participant 002\n",
      "Updated model accuracy with respect to dataset for Participant 003\n",
      "Updated model accuracy with respect to dataset for Participant 004\n",
      "Updated model accuracy with respect to dataset for Participant 005\n",
      "Updated model accuracy with respect to dataset for Participant 006\n",
      "Updated model accuracy with respect to dataset for Participant 007\n",
      "Updated model accuracy with respect to dataset for Participant 008\n",
      "Updated model accuracy with respect to dataset for Participant 001,006\n",
      "Updated model accuracy with respect to dataset for Participant 002,003\n",
      "[0.8838304552590267, 0.8838304552590267, 0.8838304552590267, 0.8838304552590267, 0.8838304552590267, 0.8838304552590267, 0.8838304552590267, 0.8838304552590267, 0.8948497854077253, 0.8948497854077253]\n",
      "[0.9009433962264151, 0.9009433962264151, 0.9009433962264151, 0.9009433962264151, 0.9009433962264151, 0.9009433962264151, 0.9009433962264151, 0.9009433962264151, 0.8893203883495145, 0.8893203883495145]\n",
      "Normality Check:\n",
      "Data1: ShapiroResult(statistic=0.5092748403549194, pvalue=4.672320756071713e-06)\n",
      "Data2: ShapiroResult(statistic=0.5092748403549194, pvalue=4.672341674449854e-06)\n",
      "Data is not normally distributed, use non-parametric test\n",
      "Wilcoxon Signed-Rank Test:\n",
      "W-statistic: 3.0\n",
      "P-value: 0.009765625\n"
     ]
    }
   ],
   "source": [
    "validation_type = \"Updated model accuracy with respect to dataset\"\n",
    "con_validation_values = []\n",
    "no_con_validation_values = []\n",
    "\n",
    "for category in model_results[\"solo\"].keys():\n",
    "    if category.startswith(validation_type):\n",
    "        print(category)\n",
    "        no_con_validation_values.append(model_results[\"solo\"][category])\n",
    "for category in model_results[\"pair\"]:\n",
    "    if category.startswith(validation_type):\n",
    "        print(category)\n",
    "        no_con_validation_values.append(model_results[\"pair\"][category])\n",
    "\n",
    "for category in model_results[\"solo_con\"]:\n",
    "    if category.startswith(validation_type):\n",
    "        print(category)\n",
    "        con_validation_values.append(model_results[\"solo_con\"][category])\n",
    "for category in model_results[\"pair_con\"]:\n",
    "    if category.startswith(validation_type):\n",
    "        print(category)\n",
    "        con_validation_values.append(model_results[\"pair_con\"][category])\n",
    "\n",
    "print(con_validation_values)\n",
    "print(no_con_validation_values) \n",
    "\n",
    "paired_t_test(con_validation_values, no_con_validation_values)"
   ]
  },
  {
   "cell_type": "markdown",
   "metadata": {},
   "source": []
  }
 ],
 "metadata": {
  "kernelspec": {
   "display_name": "base",
   "language": "python",
   "name": "python3"
  },
  "language_info": {
   "codemirror_mode": {
    "name": "ipython",
    "version": 3
   },
   "file_extension": ".py",
   "mimetype": "text/x-python",
   "name": "python",
   "nbconvert_exporter": "python",
   "pygments_lexer": "ipython3",
   "version": "3.9.7"
  }
 },
 "nbformat": 4,
 "nbformat_minor": 2
}
