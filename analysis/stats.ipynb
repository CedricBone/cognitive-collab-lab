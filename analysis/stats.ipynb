{
 "cells": [
  {
   "cell_type": "markdown",
   "metadata": {},
   "source": [
    "# Statistical Analysis"
   ]
  },
  {
   "cell_type": "markdown",
   "metadata": {},
   "source": [
    "## Imports & Initializations "
   ]
  },
  {
   "cell_type": "code",
   "execution_count": null,
   "metadata": {},
   "outputs": [],
   "source": [
    "import os"
   ]
  },
  {
   "cell_type": "markdown",
   "metadata": {},
   "source": [
    "## Research Question 1: Impact of Pair-based Collaboration\n",
    "\n",
    "- Dependent Variables: Cognitive load (Measured by: GSR, eye-tracker, NASA-TLX scores), LSTM Model performance (Measured by: Accuracy, Precision, Recall)\n",
    "- Independent Variable: Collaboration mode (solo vs. pair)"
   ]
  },
  {
   "cell_type": "code",
   "execution_count": null,
   "metadata": {},
   "outputs": [],
   "source": []
  },
  {
   "cell_type": "markdown",
   "metadata": {},
   "source": [
    "## Research Question 2: Effect of Controllability\n",
    "\n",
    "- Dependent Variables: Cognitive load (Measured by: GSR, eye-tracker, NASA-TLX scores), LSTM Model performance (Measured by: Accuracy, Precision, Recall)\n",
    "- Independent Variable: Controllability (low vs. high)"
   ]
  },
  {
   "cell_type": "code",
   "execution_count": null,
   "metadata": {},
   "outputs": [],
   "source": []
  },
  {
   "cell_type": "markdown",
   "metadata": {},
   "source": []
  }
 ],
 "metadata": {
  "language_info": {
   "name": "python"
  }
 },
 "nbformat": 4,
 "nbformat_minor": 2
}
